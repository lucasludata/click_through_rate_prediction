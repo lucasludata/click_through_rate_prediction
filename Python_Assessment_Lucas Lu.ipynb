{
 "cells": [
  {
   "cell_type": "code",
   "execution_count": 1,
   "metadata": {},
   "outputs": [],
   "source": [
    "# Import necessary packages and modules\n",
    "import pandas as pd\n",
    "import collections\n",
    "import matplotlib.pyplot as plt\n",
    "%matplotlib inline"
   ]
  },
  {
   "cell_type": "code",
   "execution_count": 2,
   "metadata": {},
   "outputs": [
    {
     "data": {
      "text/html": [
       "<div>\n",
       "<style scoped>\n",
       "    .dataframe tbody tr th:only-of-type {\n",
       "        vertical-align: middle;\n",
       "    }\n",
       "\n",
       "    .dataframe tbody tr th {\n",
       "        vertical-align: top;\n",
       "    }\n",
       "\n",
       "    .dataframe thead th {\n",
       "        text-align: right;\n",
       "    }\n",
       "</style>\n",
       "<table border=\"1\" class=\"dataframe\">\n",
       "  <thead>\n",
       "    <tr style=\"text-align: right;\">\n",
       "      <th></th>\n",
       "      <th>Action</th>\n",
       "      <th>ID</th>\n",
       "      <th>ActionTime</th>\n",
       "      <th>Website</th>\n",
       "      <th>BannerSize</th>\n",
       "      <th>Brand</th>\n",
       "      <th>Color</th>\n",
       "      <th>StayTime</th>\n",
       "    </tr>\n",
       "  </thead>\n",
       "  <tbody>\n",
       "    <tr>\n",
       "      <th>1</th>\n",
       "      <td>View</td>\n",
       "      <td>AMsySZZ_MC-gwE-94t_QLt3kIbXh</td>\n",
       "      <td>1501207373254968</td>\n",
       "      <td>Facebook</td>\n",
       "      <td>728x90</td>\n",
       "      <td>JoeFresh</td>\n",
       "      <td>Pink</td>\n",
       "      <td>1.730627</td>\n",
       "    </tr>\n",
       "    <tr>\n",
       "      <th>2</th>\n",
       "      <td>View</td>\n",
       "      <td>AMsySZZ_MC-gwE-94t_QLt3kIbXh</td>\n",
       "      <td>1501209660836689</td>\n",
       "      <td>Facebook</td>\n",
       "      <td>160x600</td>\n",
       "      <td>JoeFresh</td>\n",
       "      <td>Blue</td>\n",
       "      <td>0.615033</td>\n",
       "    </tr>\n",
       "    <tr>\n",
       "      <th>3</th>\n",
       "      <td>View</td>\n",
       "      <td>AMsySZZ_MC-gwE-94t_QLt3kIbXh</td>\n",
       "      <td>1501209717498078</td>\n",
       "      <td>Facebook</td>\n",
       "      <td>160x600</td>\n",
       "      <td>Disney</td>\n",
       "      <td>Gold</td>\n",
       "      <td>1.232917</td>\n",
       "    </tr>\n",
       "    <tr>\n",
       "      <th>4</th>\n",
       "      <td>View</td>\n",
       "      <td>AMsySZZ_MC-gwE-94t_QLt3kIbXh</td>\n",
       "      <td>1502831370458655</td>\n",
       "      <td>Other</td>\n",
       "      <td>300x250</td>\n",
       "      <td>Zara</td>\n",
       "      <td>Pink</td>\n",
       "      <td>1.004084</td>\n",
       "    </tr>\n",
       "    <tr>\n",
       "      <th>5</th>\n",
       "      <td>Click</td>\n",
       "      <td>AMsySZZ_MC-gwE-94t_QLt3kIbXh</td>\n",
       "      <td>1502831506975457</td>\n",
       "      <td>Other</td>\n",
       "      <td>300x250</td>\n",
       "      <td>Carter's</td>\n",
       "      <td>White</td>\n",
       "      <td>0.204201</td>\n",
       "    </tr>\n",
       "    <tr>\n",
       "      <th>6</th>\n",
       "      <td>View</td>\n",
       "      <td>AMsySZZ_MC-gwE-94t_QLt3kIbXh</td>\n",
       "      <td>1503351921109728</td>\n",
       "      <td>Facebook</td>\n",
       "      <td>160x600</td>\n",
       "      <td>Zara</td>\n",
       "      <td>White</td>\n",
       "      <td>0.208788</td>\n",
       "    </tr>\n",
       "    <tr>\n",
       "      <th>7</th>\n",
       "      <td>View</td>\n",
       "      <td>AMsySZZ_MC-gwE-94t_QLt3kIbXh</td>\n",
       "      <td>1505434684991942</td>\n",
       "      <td>Facebook</td>\n",
       "      <td>160x600</td>\n",
       "      <td>Gap</td>\n",
       "      <td>Pink</td>\n",
       "      <td>2.283643</td>\n",
       "    </tr>\n",
       "    <tr>\n",
       "      <th>8</th>\n",
       "      <td>Click</td>\n",
       "      <td>AMsySZZ_MC-gwE-94t_QLt3kIbXh</td>\n",
       "      <td>1505445690268414</td>\n",
       "      <td>Facebook</td>\n",
       "      <td>160x600</td>\n",
       "      <td>Burberry</td>\n",
       "      <td>Red</td>\n",
       "      <td>0.010048</td>\n",
       "    </tr>\n",
       "    <tr>\n",
       "      <th>9</th>\n",
       "      <td>View</td>\n",
       "      <td>AMsySZZ_MC-gwE-94t_QLt3kIbXh</td>\n",
       "      <td>1505623612427643</td>\n",
       "      <td>Other</td>\n",
       "      <td>300x250</td>\n",
       "      <td>Disney</td>\n",
       "      <td>Yellow</td>\n",
       "      <td>0.068071</td>\n",
       "    </tr>\n",
       "    <tr>\n",
       "      <th>10</th>\n",
       "      <td>View</td>\n",
       "      <td>AMsySZZ_MC-gwE-94t_QLt3kIbXh</td>\n",
       "      <td>1505637875085757</td>\n",
       "      <td>Other</td>\n",
       "      <td>300x250</td>\n",
       "      <td>Carter's</td>\n",
       "      <td>Gold</td>\n",
       "      <td>0.114499</td>\n",
       "    </tr>\n",
       "  </tbody>\n",
       "</table>\n",
       "</div>"
      ],
      "text/plain": [
       "   Action                            ID        ActionTime   Website  \\\n",
       "1    View  AMsySZZ_MC-gwE-94t_QLt3kIbXh  1501207373254968  Facebook   \n",
       "2    View  AMsySZZ_MC-gwE-94t_QLt3kIbXh  1501209660836689  Facebook   \n",
       "3    View  AMsySZZ_MC-gwE-94t_QLt3kIbXh  1501209717498078  Facebook   \n",
       "4    View  AMsySZZ_MC-gwE-94t_QLt3kIbXh  1502831370458655     Other   \n",
       "5   Click  AMsySZZ_MC-gwE-94t_QLt3kIbXh  1502831506975457     Other   \n",
       "6    View  AMsySZZ_MC-gwE-94t_QLt3kIbXh  1503351921109728  Facebook   \n",
       "7    View  AMsySZZ_MC-gwE-94t_QLt3kIbXh  1505434684991942  Facebook   \n",
       "8   Click  AMsySZZ_MC-gwE-94t_QLt3kIbXh  1505445690268414  Facebook   \n",
       "9    View  AMsySZZ_MC-gwE-94t_QLt3kIbXh  1505623612427643     Other   \n",
       "10   View  AMsySZZ_MC-gwE-94t_QLt3kIbXh  1505637875085757     Other   \n",
       "\n",
       "   BannerSize     Brand   Color  StayTime  \n",
       "1      728x90  JoeFresh    Pink  1.730627  \n",
       "2     160x600  JoeFresh    Blue  0.615033  \n",
       "3     160x600    Disney    Gold  1.232917  \n",
       "4     300x250      Zara    Pink  1.004084  \n",
       "5     300x250  Carter's   White  0.204201  \n",
       "6     160x600      Zara   White  0.208788  \n",
       "7     160x600       Gap    Pink  2.283643  \n",
       "8     160x600  Burberry     Red  0.010048  \n",
       "9     300x250    Disney  Yellow  0.068071  \n",
       "10    300x250  Carter's    Gold  0.114499  "
      ]
     },
     "execution_count": 2,
     "metadata": {},
     "output_type": "execute_result"
    }
   ],
   "source": [
    "# Reading the Dataset\n",
    "df =  pd.read_csv(\"StackPros_Assessment_DataScientist_J.csv\", index_col=0)\n",
    "\n",
    "# Print out first 10 rows of the dataset\n",
    "df.head(10)"
   ]
  },
  {
   "cell_type": "code",
   "execution_count": 3,
   "metadata": {},
   "outputs": [
    {
     "data": {
      "text/plain": [
       "(100000, 8)"
      ]
     },
     "execution_count": 3,
     "metadata": {},
     "output_type": "execute_result"
    }
   ],
   "source": [
    "df.shape\n"
   ]
  },
  {
   "cell_type": "code",
   "execution_count": 4,
   "metadata": {},
   "outputs": [
    {
     "data": {
      "text/html": [
       "<div>\n",
       "<style scoped>\n",
       "    .dataframe tbody tr th:only-of-type {\n",
       "        vertical-align: middle;\n",
       "    }\n",
       "\n",
       "    .dataframe tbody tr th {\n",
       "        vertical-align: top;\n",
       "    }\n",
       "\n",
       "    .dataframe thead th {\n",
       "        text-align: right;\n",
       "    }\n",
       "</style>\n",
       "<table border=\"1\" class=\"dataframe\">\n",
       "  <thead>\n",
       "    <tr style=\"text-align: right;\">\n",
       "      <th></th>\n",
       "      <th>Action</th>\n",
       "      <th>ID</th>\n",
       "      <th>ActionTime</th>\n",
       "      <th>Website</th>\n",
       "      <th>BannerSize</th>\n",
       "      <th>Brand</th>\n",
       "      <th>Color</th>\n",
       "      <th>StayTime</th>\n",
       "    </tr>\n",
       "  </thead>\n",
       "  <tbody>\n",
       "    <tr>\n",
       "      <th>count</th>\n",
       "      <td>100000</td>\n",
       "      <td>100000</td>\n",
       "      <td>1.000000e+05</td>\n",
       "      <td>100000</td>\n",
       "      <td>100000</td>\n",
       "      <td>100000</td>\n",
       "      <td>100000</td>\n",
       "      <td>99993.000000</td>\n",
       "    </tr>\n",
       "    <tr>\n",
       "      <th>unique</th>\n",
       "      <td>2</td>\n",
       "      <td>3093</td>\n",
       "      <td>NaN</td>\n",
       "      <td>16</td>\n",
       "      <td>15</td>\n",
       "      <td>10</td>\n",
       "      <td>7</td>\n",
       "      <td>NaN</td>\n",
       "    </tr>\n",
       "    <tr>\n",
       "      <th>top</th>\n",
       "      <td>View</td>\n",
       "      <td>AMsySZYkZOPn04sH5gQG7xBcBGKz</td>\n",
       "      <td>NaN</td>\n",
       "      <td>Facebook</td>\n",
       "      <td>300x250</td>\n",
       "      <td>Carter's</td>\n",
       "      <td>Pink</td>\n",
       "      <td>NaN</td>\n",
       "    </tr>\n",
       "    <tr>\n",
       "      <th>freq</th>\n",
       "      <td>90010</td>\n",
       "      <td>2513</td>\n",
       "      <td>NaN</td>\n",
       "      <td>58059</td>\n",
       "      <td>43314</td>\n",
       "      <td>22438</td>\n",
       "      <td>32261</td>\n",
       "      <td>NaN</td>\n",
       "    </tr>\n",
       "    <tr>\n",
       "      <th>mean</th>\n",
       "      <td>NaN</td>\n",
       "      <td>NaN</td>\n",
       "      <td>1.506038e+15</td>\n",
       "      <td>NaN</td>\n",
       "      <td>NaN</td>\n",
       "      <td>NaN</td>\n",
       "      <td>NaN</td>\n",
       "      <td>1.000457</td>\n",
       "    </tr>\n",
       "    <tr>\n",
       "      <th>std</th>\n",
       "      <td>NaN</td>\n",
       "      <td>NaN</td>\n",
       "      <td>4.176429e+12</td>\n",
       "      <td>NaN</td>\n",
       "      <td>NaN</td>\n",
       "      <td>NaN</td>\n",
       "      <td>NaN</td>\n",
       "      <td>1.005150</td>\n",
       "    </tr>\n",
       "    <tr>\n",
       "      <th>min</th>\n",
       "      <td>NaN</td>\n",
       "      <td>NaN</td>\n",
       "      <td>1.500991e+15</td>\n",
       "      <td>NaN</td>\n",
       "      <td>NaN</td>\n",
       "      <td>NaN</td>\n",
       "      <td>NaN</td>\n",
       "      <td>0.000018</td>\n",
       "    </tr>\n",
       "    <tr>\n",
       "      <th>25%</th>\n",
       "      <td>NaN</td>\n",
       "      <td>NaN</td>\n",
       "      <td>1.502550e+15</td>\n",
       "      <td>NaN</td>\n",
       "      <td>NaN</td>\n",
       "      <td>NaN</td>\n",
       "      <td>NaN</td>\n",
       "      <td>0.286686</td>\n",
       "    </tr>\n",
       "    <tr>\n",
       "      <th>50%</th>\n",
       "      <td>NaN</td>\n",
       "      <td>NaN</td>\n",
       "      <td>1.504912e+15</td>\n",
       "      <td>NaN</td>\n",
       "      <td>NaN</td>\n",
       "      <td>NaN</td>\n",
       "      <td>NaN</td>\n",
       "      <td>0.692082</td>\n",
       "    </tr>\n",
       "    <tr>\n",
       "      <th>75%</th>\n",
       "      <td>NaN</td>\n",
       "      <td>NaN</td>\n",
       "      <td>1.508607e+15</td>\n",
       "      <td>NaN</td>\n",
       "      <td>NaN</td>\n",
       "      <td>NaN</td>\n",
       "      <td>NaN</td>\n",
       "      <td>1.386599</td>\n",
       "    </tr>\n",
       "    <tr>\n",
       "      <th>max</th>\n",
       "      <td>NaN</td>\n",
       "      <td>NaN</td>\n",
       "      <td>1.517356e+15</td>\n",
       "      <td>NaN</td>\n",
       "      <td>NaN</td>\n",
       "      <td>NaN</td>\n",
       "      <td>NaN</td>\n",
       "      <td>10.477972</td>\n",
       "    </tr>\n",
       "  </tbody>\n",
       "</table>\n",
       "</div>"
      ],
      "text/plain": [
       "        Action                            ID    ActionTime   Website  \\\n",
       "count   100000                        100000  1.000000e+05    100000   \n",
       "unique       2                          3093           NaN        16   \n",
       "top       View  AMsySZYkZOPn04sH5gQG7xBcBGKz           NaN  Facebook   \n",
       "freq     90010                          2513           NaN     58059   \n",
       "mean       NaN                           NaN  1.506038e+15       NaN   \n",
       "std        NaN                           NaN  4.176429e+12       NaN   \n",
       "min        NaN                           NaN  1.500991e+15       NaN   \n",
       "25%        NaN                           NaN  1.502550e+15       NaN   \n",
       "50%        NaN                           NaN  1.504912e+15       NaN   \n",
       "75%        NaN                           NaN  1.508607e+15       NaN   \n",
       "max        NaN                           NaN  1.517356e+15       NaN   \n",
       "\n",
       "       BannerSize     Brand   Color      StayTime  \n",
       "count      100000    100000  100000  99993.000000  \n",
       "unique         15        10       7           NaN  \n",
       "top       300x250  Carter's    Pink           NaN  \n",
       "freq        43314     22438   32261           NaN  \n",
       "mean          NaN       NaN     NaN      1.000457  \n",
       "std           NaN       NaN     NaN      1.005150  \n",
       "min           NaN       NaN     NaN      0.000018  \n",
       "25%           NaN       NaN     NaN      0.286686  \n",
       "50%           NaN       NaN     NaN      0.692082  \n",
       "75%           NaN       NaN     NaN      1.386599  \n",
       "max           NaN       NaN     NaN     10.477972  "
      ]
     },
     "execution_count": 4,
     "metadata": {},
     "output_type": "execute_result"
    }
   ],
   "source": [
    "# Create table of summary statistics\n",
    "df.describe(include = \"all\")"
   ]
  },
  {
   "cell_type": "code",
   "execution_count": 5,
   "metadata": {},
   "outputs": [
    {
     "data": {
      "text/plain": [
       "array([[<matplotlib.axes._subplots.AxesSubplot object at 0x10491d588>,\n",
       "        <matplotlib.axes._subplots.AxesSubplot object at 0x1042959b0>]],\n",
       "      dtype=object)"
      ]
     },
     "execution_count": 5,
     "metadata": {},
     "output_type": "execute_result"
    },
    {
     "data": {
      "image/png": "[encoded data removed]",
      "text/plain": [
       "<Figure size 432x288 with 2 Axes>"
      ]
     },
     "metadata": {},
     "output_type": "display_data"
    }
   ],
   "source": [
    "df.hist(figsize = (6,4))\n"
   ]
  },
  {
   "cell_type": "markdown",
   "metadata": {},
   "source": [
    "## Perform Imputation on Missing Values - Python\n"
   ]
  },
  {
   "cell_type": "code",
   "execution_count": 6,
   "metadata": {
    "scrolled": true
   },
   "outputs": [
    {
     "data": {
      "text/html": [
       "<div>\n",
       "<style scoped>\n",
       "    .dataframe tbody tr th:only-of-type {\n",
       "        vertical-align: middle;\n",
       "    }\n",
       "\n",
       "    .dataframe tbody tr th {\n",
       "        vertical-align: top;\n",
       "    }\n",
       "\n",
       "    .dataframe thead th {\n",
       "        text-align: right;\n",
       "    }\n",
       "</style>\n",
       "<table border=\"1\" class=\"dataframe\">\n",
       "  <thead>\n",
       "    <tr style=\"text-align: right;\">\n",
       "      <th></th>\n",
       "      <th>Action</th>\n",
       "      <th>ID</th>\n",
       "      <th>ActionTime</th>\n",
       "      <th>Website</th>\n",
       "      <th>BannerSize</th>\n",
       "      <th>Brand</th>\n",
       "      <th>Color</th>\n",
       "      <th>StayTime</th>\n",
       "    </tr>\n",
       "  </thead>\n",
       "  <tbody>\n",
       "    <tr>\n",
       "      <th>1</th>\n",
       "      <td>View</td>\n",
       "      <td>AMsySZZ_MC-gwE-94t_QLt3kIbXh</td>\n",
       "      <td>1501207373254968</td>\n",
       "      <td>Facebook</td>\n",
       "      <td>728x90</td>\n",
       "      <td>JoeFresh</td>\n",
       "      <td>Pink</td>\n",
       "      <td>1.730627</td>\n",
       "    </tr>\n",
       "    <tr>\n",
       "      <th>2</th>\n",
       "      <td>View</td>\n",
       "      <td>AMsySZZ_MC-gwE-94t_QLt3kIbXh</td>\n",
       "      <td>1501209660836689</td>\n",
       "      <td>Facebook</td>\n",
       "      <td>160x600</td>\n",
       "      <td>JoeFresh</td>\n",
       "      <td>Blue</td>\n",
       "      <td>0.615033</td>\n",
       "    </tr>\n",
       "    <tr>\n",
       "      <th>3</th>\n",
       "      <td>View</td>\n",
       "      <td>AMsySZZ_MC-gwE-94t_QLt3kIbXh</td>\n",
       "      <td>1501209717498078</td>\n",
       "      <td>Facebook</td>\n",
       "      <td>160x600</td>\n",
       "      <td>Disney</td>\n",
       "      <td>Gold</td>\n",
       "      <td>1.232917</td>\n",
       "    </tr>\n",
       "    <tr>\n",
       "      <th>4</th>\n",
       "      <td>View</td>\n",
       "      <td>AMsySZZ_MC-gwE-94t_QLt3kIbXh</td>\n",
       "      <td>1502831370458655</td>\n",
       "      <td>Other</td>\n",
       "      <td>300x250</td>\n",
       "      <td>Zara</td>\n",
       "      <td>Pink</td>\n",
       "      <td>1.004084</td>\n",
       "    </tr>\n",
       "    <tr>\n",
       "      <th>5</th>\n",
       "      <td>Click</td>\n",
       "      <td>AMsySZZ_MC-gwE-94t_QLt3kIbXh</td>\n",
       "      <td>1502831506975457</td>\n",
       "      <td>Other</td>\n",
       "      <td>300x250</td>\n",
       "      <td>Carter's</td>\n",
       "      <td>White</td>\n",
       "      <td>0.204201</td>\n",
       "    </tr>\n",
       "    <tr>\n",
       "      <th>6</th>\n",
       "      <td>View</td>\n",
       "      <td>AMsySZZ_MC-gwE-94t_QLt3kIbXh</td>\n",
       "      <td>1503351921109728</td>\n",
       "      <td>Facebook</td>\n",
       "      <td>160x600</td>\n",
       "      <td>Zara</td>\n",
       "      <td>White</td>\n",
       "      <td>0.208788</td>\n",
       "    </tr>\n",
       "    <tr>\n",
       "      <th>7</th>\n",
       "      <td>View</td>\n",
       "      <td>AMsySZZ_MC-gwE-94t_QLt3kIbXh</td>\n",
       "      <td>1505434684991942</td>\n",
       "      <td>Facebook</td>\n",
       "      <td>160x600</td>\n",
       "      <td>Gap</td>\n",
       "      <td>Pink</td>\n",
       "      <td>2.283643</td>\n",
       "    </tr>\n",
       "    <tr>\n",
       "      <th>8</th>\n",
       "      <td>Click</td>\n",
       "      <td>AMsySZZ_MC-gwE-94t_QLt3kIbXh</td>\n",
       "      <td>1505445690268414</td>\n",
       "      <td>Facebook</td>\n",
       "      <td>160x600</td>\n",
       "      <td>Burberry</td>\n",
       "      <td>Red</td>\n",
       "      <td>0.010048</td>\n",
       "    </tr>\n",
       "    <tr>\n",
       "      <th>9</th>\n",
       "      <td>View</td>\n",
       "      <td>AMsySZZ_MC-gwE-94t_QLt3kIbXh</td>\n",
       "      <td>1505623612427643</td>\n",
       "      <td>Other</td>\n",
       "      <td>300x250</td>\n",
       "      <td>Disney</td>\n",
       "      <td>Yellow</td>\n",
       "      <td>0.068071</td>\n",
       "    </tr>\n",
       "    <tr>\n",
       "      <th>10</th>\n",
       "      <td>View</td>\n",
       "      <td>AMsySZZ_MC-gwE-94t_QLt3kIbXh</td>\n",
       "      <td>1505637875085757</td>\n",
       "      <td>Other</td>\n",
       "      <td>300x250</td>\n",
       "      <td>Carter's</td>\n",
       "      <td>Gold</td>\n",
       "      <td>0.114499</td>\n",
       "    </tr>\n",
       "  </tbody>\n",
       "</table>\n",
       "</div>"
      ],
      "text/plain": [
       "   Action                            ID        ActionTime   Website  \\\n",
       "1    View  AMsySZZ_MC-gwE-94t_QLt3kIbXh  1501207373254968  Facebook   \n",
       "2    View  AMsySZZ_MC-gwE-94t_QLt3kIbXh  1501209660836689  Facebook   \n",
       "3    View  AMsySZZ_MC-gwE-94t_QLt3kIbXh  1501209717498078  Facebook   \n",
       "4    View  AMsySZZ_MC-gwE-94t_QLt3kIbXh  1502831370458655     Other   \n",
       "5   Click  AMsySZZ_MC-gwE-94t_QLt3kIbXh  1502831506975457     Other   \n",
       "6    View  AMsySZZ_MC-gwE-94t_QLt3kIbXh  1503351921109728  Facebook   \n",
       "7    View  AMsySZZ_MC-gwE-94t_QLt3kIbXh  1505434684991942  Facebook   \n",
       "8   Click  AMsySZZ_MC-gwE-94t_QLt3kIbXh  1505445690268414  Facebook   \n",
       "9    View  AMsySZZ_MC-gwE-94t_QLt3kIbXh  1505623612427643     Other   \n",
       "10   View  AMsySZZ_MC-gwE-94t_QLt3kIbXh  1505637875085757     Other   \n",
       "\n",
       "   BannerSize     Brand   Color  StayTime  \n",
       "1      728x90  JoeFresh    Pink  1.730627  \n",
       "2     160x600  JoeFresh    Blue  0.615033  \n",
       "3     160x600    Disney    Gold  1.232917  \n",
       "4     300x250      Zara    Pink  1.004084  \n",
       "5     300x250  Carter's   White  0.204201  \n",
       "6     160x600      Zara   White  0.208788  \n",
       "7     160x600       Gap    Pink  2.283643  \n",
       "8     160x600  Burberry     Red  0.010048  \n",
       "9     300x250    Disney  Yellow  0.068071  \n",
       "10    300x250  Carter's    Gold  0.114499  "
      ]
     },
     "execution_count": 6,
     "metadata": {},
     "output_type": "execute_result"
    }
   ],
   "source": [
    "# Replace the numeric columns with missing value to be the median\n",
    "df_imp = df.fillna(df.median())\n",
    "df_imp.head(10)"
   ]
  },
  {
   "cell_type": "markdown",
   "metadata": {},
   "source": [
    "## Data Analysis"
   ]
  },
  {
   "cell_type": "code",
   "execution_count": 7,
   "metadata": {},
   "outputs": [
    {
     "data": {
      "text/html": [
       "<div>\n",
       "<style scoped>\n",
       "    .dataframe tbody tr th:only-of-type {\n",
       "        vertical-align: middle;\n",
       "    }\n",
       "\n",
       "    .dataframe tbody tr th {\n",
       "        vertical-align: top;\n",
       "    }\n",
       "\n",
       "    .dataframe thead th {\n",
       "        text-align: right;\n",
       "    }\n",
       "</style>\n",
       "<table border=\"1\" class=\"dataframe\">\n",
       "  <thead>\n",
       "    <tr style=\"text-align: right;\">\n",
       "      <th></th>\n",
       "      <th>Action</th>\n",
       "      <th>ID</th>\n",
       "      <th>ActionTime</th>\n",
       "      <th>Website</th>\n",
       "      <th>BannerSize</th>\n",
       "      <th>Brand</th>\n",
       "      <th>Color</th>\n",
       "      <th>StayTime</th>\n",
       "    </tr>\n",
       "  </thead>\n",
       "  <tbody>\n",
       "    <tr>\n",
       "      <th>1</th>\n",
       "      <td>0</td>\n",
       "      <td>AMsySZZ_MC-gwE-94t_QLt3kIbXh</td>\n",
       "      <td>1501207373254968</td>\n",
       "      <td>Facebook</td>\n",
       "      <td>728x90</td>\n",
       "      <td>JoeFresh</td>\n",
       "      <td>Pink</td>\n",
       "      <td>1.730627</td>\n",
       "    </tr>\n",
       "    <tr>\n",
       "      <th>2</th>\n",
       "      <td>0</td>\n",
       "      <td>AMsySZZ_MC-gwE-94t_QLt3kIbXh</td>\n",
       "      <td>1501209660836689</td>\n",
       "      <td>Facebook</td>\n",
       "      <td>160x600</td>\n",
       "      <td>JoeFresh</td>\n",
       "      <td>Blue</td>\n",
       "      <td>0.615033</td>\n",
       "    </tr>\n",
       "    <tr>\n",
       "      <th>3</th>\n",
       "      <td>0</td>\n",
       "      <td>AMsySZZ_MC-gwE-94t_QLt3kIbXh</td>\n",
       "      <td>1501209717498078</td>\n",
       "      <td>Facebook</td>\n",
       "      <td>160x600</td>\n",
       "      <td>Disney</td>\n",
       "      <td>Gold</td>\n",
       "      <td>1.232917</td>\n",
       "    </tr>\n",
       "    <tr>\n",
       "      <th>4</th>\n",
       "      <td>0</td>\n",
       "      <td>AMsySZZ_MC-gwE-94t_QLt3kIbXh</td>\n",
       "      <td>1502831370458655</td>\n",
       "      <td>Other</td>\n",
       "      <td>300x250</td>\n",
       "      <td>Zara</td>\n",
       "      <td>Pink</td>\n",
       "      <td>1.004084</td>\n",
       "    </tr>\n",
       "    <tr>\n",
       "      <th>5</th>\n",
       "      <td>1</td>\n",
       "      <td>AMsySZZ_MC-gwE-94t_QLt3kIbXh</td>\n",
       "      <td>1502831506975457</td>\n",
       "      <td>Other</td>\n",
       "      <td>300x250</td>\n",
       "      <td>Carter's</td>\n",
       "      <td>White</td>\n",
       "      <td>0.204201</td>\n",
       "    </tr>\n",
       "  </tbody>\n",
       "</table>\n",
       "</div>"
      ],
      "text/plain": [
       "   Action                            ID        ActionTime   Website  \\\n",
       "1       0  AMsySZZ_MC-gwE-94t_QLt3kIbXh  1501207373254968  Facebook   \n",
       "2       0  AMsySZZ_MC-gwE-94t_QLt3kIbXh  1501209660836689  Facebook   \n",
       "3       0  AMsySZZ_MC-gwE-94t_QLt3kIbXh  1501209717498078  Facebook   \n",
       "4       0  AMsySZZ_MC-gwE-94t_QLt3kIbXh  1502831370458655     Other   \n",
       "5       1  AMsySZZ_MC-gwE-94t_QLt3kIbXh  1502831506975457     Other   \n",
       "\n",
       "  BannerSize     Brand  Color  StayTime  \n",
       "1     728x90  JoeFresh   Pink  1.730627  \n",
       "2    160x600  JoeFresh   Blue  0.615033  \n",
       "3    160x600    Disney   Gold  1.232917  \n",
       "4    300x250      Zara   Pink  1.004084  \n",
       "5    300x250  Carter's  White  0.204201  "
      ]
     },
     "execution_count": 7,
     "metadata": {},
     "output_type": "execute_result"
    }
   ],
   "source": [
    "mapping = {'View': 0, 'Click': 1}\n",
    "df_imp = df_imp.replace({'Action': mapping})\n",
    "df_imp.head()"
   ]
  },
  {
   "cell_type": "code",
   "execution_count": 8,
   "metadata": {},
   "outputs": [
    {
     "data": {
      "text/plain": [
       "3093"
      ]
     },
     "execution_count": 8,
     "metadata": {},
     "output_type": "execute_result"
    }
   ],
   "source": [
    "len(df_imp.ID.unique())"
   ]
  },
  {
   "cell_type": "markdown",
   "metadata": {},
   "source": [
    "BannerSize and Website could be predictive features because they have higher relationship with Action than other categorical variables."
   ]
  },
  {
   "cell_type": "code",
   "execution_count": 9,
   "metadata": {
    "scrolled": true
   },
   "outputs": [
    {
     "name": "stdout",
     "output_type": "stream",
     "text": [
      "base: 0.0999\n",
      "            count      mean\n",
      "BannerSize                 \n",
      "320x100        50  0.140000\n",
      "768x1024       32  0.125000\n",
      "1x1           400  0.112500\n",
      "300x600      5247  0.106156\n",
      "300x250     43314  0.100730\n",
      "               count      mean\n",
      "Website                       \n",
      "AOL               41  0.146341\n",
      "Youtube          217  0.124424\n",
      "Twitter          123  0.113821\n",
      "Sympatico        606  0.107261\n",
      "Craigslist.ca   3595  0.105702\n"
     ]
    }
   ],
   "source": [
    "print('base:', df_imp.Action.mean())\n",
    "print(df_imp.groupby('BannerSize').Action.agg({'mean', 'count'}).sort_values('mean', ascending=False).head())\n",
    "print(df_imp.groupby('Website').Action.agg({'mean', 'count'}).sort_values('mean', ascending=False).head())"
   ]
  },
  {
   "cell_type": "markdown",
   "metadata": {},
   "source": [
    "## Feature Engineering"
   ]
  },
  {
   "cell_type": "code",
   "execution_count": 10,
   "metadata": {},
   "outputs": [
    {
     "data": {
      "text/plain": [
       "<matplotlib.axes._subplots.AxesSubplot at 0x1032ad668>"
      ]
     },
     "execution_count": 10,
     "metadata": {},
     "output_type": "execute_result"
    },
    {
     "data": {
      "image/png": "[encoded data removed]",
      "text/plain": [
       "<Figure size 432x288 with 1 Axes>"
      ]
     },
     "metadata": {},
     "output_type": "display_data"
    }
   ],
   "source": [
    "from datetime import datetime, timedelta, timezone\n",
    "epoch = datetime(1970, 1, 1, tzinfo=timezone.utc)\n",
    "mcs_format = df_imp.ActionTime\n",
    "date_format = []\n",
    "for i in range(1, df_imp.shape[0]+1):\n",
    "    date_format.append(epoch + timedelta(microseconds=int(mcs_format[i])))\n",
    "df_imp['ActionTime_Date'] = pd.Series(date_format).values\n",
    "df_imp.head()\n",
    "df_imp.ActionTime_Date.hist()\n",
    "#https://www.epochconverter.com/"
   ]
  },
  {
   "cell_type": "markdown",
   "metadata": {},
   "source": [
    "### Extract year, month, day, weekday etc to become new features"
   ]
  },
  {
   "cell_type": "code",
   "execution_count": 11,
   "metadata": {},
   "outputs": [],
   "source": [
    "df_imp['Year'], df_imp['Month'], df_imp['Day'] = df_imp['ActionTime_Date'].dt.year, df_imp['ActionTime_Date'].dt.month, df_imp['ActionTime_Date'].dt.day\n",
    "df_imp['Weekday'] = df_imp['ActionTime_Date'].dt.weekday_name\n",
    "df_imp['Hour'] = df_imp['ActionTime_Date'].dt.hour"
   ]
  },
  {
   "cell_type": "code",
   "execution_count": 12,
   "metadata": {},
   "outputs": [
    {
     "data": {
      "text/plain": [
       "<seaborn.axisgrid.FacetGrid at 0x108d671d0>"
      ]
     },
     "execution_count": 12,
     "metadata": {},
     "output_type": "execute_result"
    },
    {
     "data": {
      "image/png": "[encoded data removed]",
      "text/plain": [
       "<Figure size 432x216 with 2 Axes>"
      ]
     },
     "metadata": {},
     "output_type": "display_data"
    }
   ],
   "source": [
    "import seaborn as sns\n",
    "g = sns.FacetGrid(df_imp, col='Action', sharey=False)\n",
    "g.map(plt.hist, 'Day', bins=7)"
   ]
  },
  {
   "cell_type": "markdown",
   "metadata": {},
   "source": [
    "Comparing the mean and the base, although these time features doesn't have strong relationship with Aciton, they still have some influence. So I'll keep them."
   ]
  },
  {
   "cell_type": "code",
   "execution_count": 13,
   "metadata": {},
   "outputs": [
    {
     "name": "stdout",
     "output_type": "stream",
     "text": [
      "base: 0.0999\n",
      "           count      mean\n",
      "Weekday                   \n",
      "Sunday     12572  0.104836\n",
      "Friday     14958  0.101484\n",
      "Monday     14805  0.100439\n",
      "Wednesday  15498  0.100336\n",
      "Thursday   14170  0.098589\n",
      "       count      mean\n",
      "Month                 \n",
      "7       9576  0.106934\n",
      "12      6691  0.103124\n",
      "11      6834  0.099649\n",
      "9      18518  0.099201\n",
      "8      34203  0.099114\n",
      "      count      mean\n",
      "Year                 \n",
      "2017  95240  0.100147\n",
      "2018   4760  0.094958\n",
      "     count      mean\n",
      "Day                 \n",
      "29    3561  0.114294\n",
      "22    2889  0.111111\n",
      "3     3605  0.110957\n",
      "6     3027  0.110010\n",
      "7     3018  0.107356\n",
      "      count      mean\n",
      "Hour                 \n",
      "11     2827  0.109303\n",
      "5      3210  0.108100\n",
      "15     5401  0.106832\n",
      "22     5610  0.104456\n",
      "19     5999  0.104351\n"
     ]
    }
   ],
   "source": [
    "print('base:', df_imp.Action.mean())\n",
    "print(df_imp.groupby('Weekday').Action.agg({'mean', 'count'}).sort_values('mean', ascending=False).head())\n",
    "print(df_imp.groupby('Month').Action.agg({'mean', 'count'}).sort_values('mean', ascending=False).head())\n",
    "print(df_imp.groupby('Year').Action.agg({'mean', 'count'}).sort_values('mean', ascending=False).head())\n",
    "print(df_imp.groupby('Day').Action.agg({'mean', 'count'}).sort_values('mean', ascending=False).head())\n",
    "print(df_imp.groupby('Hour').Action.agg({'mean', 'count'}).sort_values('mean', ascending=False).head())"
   ]
  },
  {
   "cell_type": "markdown",
   "metadata": {},
   "source": [
    "Here I wanted to find how many times a user has viewed the same ad before he clicks into it, and also calculate the total view time before he clicks, based on the StayTime column. But considering the time spent coding algorithms I decided to finish other parts first."
   ]
  },
  {
   "cell_type": "code",
   "execution_count": 14,
   "metadata": {},
   "outputs": [
    {
     "data": {
      "text/html": [
       "<div>\n",
       "<style scoped>\n",
       "    .dataframe tbody tr th:only-of-type {\n",
       "        vertical-align: middle;\n",
       "    }\n",
       "\n",
       "    .dataframe tbody tr th {\n",
       "        vertical-align: top;\n",
       "    }\n",
       "\n",
       "    .dataframe thead th {\n",
       "        text-align: right;\n",
       "    }\n",
       "</style>\n",
       "<table border=\"1\" class=\"dataframe\">\n",
       "  <thead>\n",
       "    <tr style=\"text-align: right;\">\n",
       "      <th></th>\n",
       "      <th>Action</th>\n",
       "      <th>ID</th>\n",
       "      <th>ActionTime</th>\n",
       "      <th>Website</th>\n",
       "      <th>BannerSize</th>\n",
       "      <th>Brand</th>\n",
       "      <th>Color</th>\n",
       "      <th>StayTime</th>\n",
       "      <th>ActionTime_Date</th>\n",
       "      <th>Year</th>\n",
       "      <th>Month</th>\n",
       "      <th>Day</th>\n",
       "      <th>Weekday</th>\n",
       "      <th>Hour</th>\n",
       "    </tr>\n",
       "  </thead>\n",
       "  <tbody>\n",
       "    <tr>\n",
       "      <th>4127</th>\n",
       "      <td>0</td>\n",
       "      <td>AMsySZaNbHOuIdXp4Wzp7XGbw3qs</td>\n",
       "      <td>1517356357079943</td>\n",
       "      <td>Facebook</td>\n",
       "      <td>160x600</td>\n",
       "      <td>JoeFresh</td>\n",
       "      <td>Yellow</td>\n",
       "      <td>0.560764</td>\n",
       "      <td>2018-01-30 23:52:37.079943</td>\n",
       "      <td>2018</td>\n",
       "      <td>1</td>\n",
       "      <td>30</td>\n",
       "      <td>Tuesday</td>\n",
       "      <td>23</td>\n",
       "    </tr>\n",
       "    <tr>\n",
       "      <th>4126</th>\n",
       "      <td>0</td>\n",
       "      <td>AMsySZaNbHOuIdXp4Wzp7XGbw3qs</td>\n",
       "      <td>1517356164075182</td>\n",
       "      <td>Facebook</td>\n",
       "      <td>300x250</td>\n",
       "      <td>Carter's</td>\n",
       "      <td>Pink</td>\n",
       "      <td>0.821382</td>\n",
       "      <td>2018-01-30 23:49:24.075182</td>\n",
       "      <td>2018</td>\n",
       "      <td>1</td>\n",
       "      <td>30</td>\n",
       "      <td>Tuesday</td>\n",
       "      <td>23</td>\n",
       "    </tr>\n",
       "    <tr>\n",
       "      <th>4125</th>\n",
       "      <td>0</td>\n",
       "      <td>AMsySZaNbHOuIdXp4Wzp7XGbw3qs</td>\n",
       "      <td>1517356162085729</td>\n",
       "      <td>Facebook</td>\n",
       "      <td>300x250</td>\n",
       "      <td>JoeFresh</td>\n",
       "      <td>Pink</td>\n",
       "      <td>0.233819</td>\n",
       "      <td>2018-01-30 23:49:22.085729</td>\n",
       "      <td>2018</td>\n",
       "      <td>1</td>\n",
       "      <td>30</td>\n",
       "      <td>Tuesday</td>\n",
       "      <td>23</td>\n",
       "    </tr>\n",
       "    <tr>\n",
       "      <th>53833</th>\n",
       "      <td>0</td>\n",
       "      <td>AMsySZa0ABYW6uOqbq3SnPDDEYvc</td>\n",
       "      <td>1517355755883109</td>\n",
       "      <td>TubeMogul</td>\n",
       "      <td>Other</td>\n",
       "      <td>JoeFresh</td>\n",
       "      <td>Pink</td>\n",
       "      <td>0.765256</td>\n",
       "      <td>2018-01-30 23:42:35.883109</td>\n",
       "      <td>2018</td>\n",
       "      <td>1</td>\n",
       "      <td>30</td>\n",
       "      <td>Tuesday</td>\n",
       "      <td>23</td>\n",
       "    </tr>\n",
       "    <tr>\n",
       "      <th>53832</th>\n",
       "      <td>0</td>\n",
       "      <td>AMsySZa0ABYW6uOqbq3SnPDDEYvc</td>\n",
       "      <td>1517355716881124</td>\n",
       "      <td>TubeMogul</td>\n",
       "      <td>Other</td>\n",
       "      <td>Zara</td>\n",
       "      <td>Gold</td>\n",
       "      <td>0.873819</td>\n",
       "      <td>2018-01-30 23:41:56.881124</td>\n",
       "      <td>2018</td>\n",
       "      <td>1</td>\n",
       "      <td>30</td>\n",
       "      <td>Tuesday</td>\n",
       "      <td>23</td>\n",
       "    </tr>\n",
       "  </tbody>\n",
       "</table>\n",
       "</div>"
      ],
      "text/plain": [
       "       Action                            ID        ActionTime    Website  \\\n",
       "4127        0  AMsySZaNbHOuIdXp4Wzp7XGbw3qs  1517356357079943   Facebook   \n",
       "4126        0  AMsySZaNbHOuIdXp4Wzp7XGbw3qs  1517356164075182   Facebook   \n",
       "4125        0  AMsySZaNbHOuIdXp4Wzp7XGbw3qs  1517356162085729   Facebook   \n",
       "53833       0  AMsySZa0ABYW6uOqbq3SnPDDEYvc  1517355755883109  TubeMogul   \n",
       "53832       0  AMsySZa0ABYW6uOqbq3SnPDDEYvc  1517355716881124  TubeMogul   \n",
       "\n",
       "      BannerSize     Brand   Color  StayTime            ActionTime_Date  Year  \\\n",
       "4127     160x600  JoeFresh  Yellow  0.560764 2018-01-30 23:52:37.079943  2018   \n",
       "4126     300x250  Carter's    Pink  0.821382 2018-01-30 23:49:24.075182  2018   \n",
       "4125     300x250  JoeFresh    Pink  0.233819 2018-01-30 23:49:22.085729  2018   \n",
       "53833      Other  JoeFresh    Pink  0.765256 2018-01-30 23:42:35.883109  2018   \n",
       "53832      Other      Zara    Gold  0.873819 2018-01-30 23:41:56.881124  2018   \n",
       "\n",
       "       Month  Day  Weekday  Hour  \n",
       "4127       1   30  Tuesday    23  \n",
       "4126       1   30  Tuesday    23  \n",
       "4125       1   30  Tuesday    23  \n",
       "53833      1   30  Tuesday    23  \n",
       "53832      1   30  Tuesday    23  "
      ]
     },
     "execution_count": 14,
     "metadata": {},
     "output_type": "execute_result"
    }
   ],
   "source": [
    "sort_df = df_imp.sort_values('ActionTime_Date', ascending=False)\n",
    "sort_df.head()"
   ]
  },
  {
   "cell_type": "code",
   "execution_count": 15,
   "metadata": {},
   "outputs": [],
   "source": [
    "# times_viewed = []\n",
    "# total_view_time = []\n",
    "# for i in range(0, df.shape[0]):\n",
    "#     for j in range(i+1, df.shape[0]):\n",
    "#         a=sort_df[['ID','Website','Brand']].iloc[i]==sort_df[['ID','Website','Brand'].iloc[j]]\n",
    "#         if sort_df['Action'].iloc[i] == 0 and sort_df['Action'].iloc[j] == 0 and a.all() == True:\n",
    "#             times_viewed.append(sort_df[['StayTime']].iloc[i])\n",
    "        \n",
    "#             if sort_df['Action'].iloc[j] != 1:\n",
    "            \n",
    "            \n",
    "\n",
    "\n",
    "# df['TimesViewed'] = pd.Series(date_format).values\n",
    "# df['TotalViewTime'] = pd.Series(date_format).values"
   ]
  },
  {
   "cell_type": "markdown",
   "metadata": {},
   "source": [
    "## Encoding Categorical Variables"
   ]
  },
  {
   "cell_type": "code",
   "execution_count": 16,
   "metadata": {},
   "outputs": [],
   "source": [
    "# I extracted all the info from ActionTime_Date, so drop this column\n",
    "df_imp = df_imp.drop(['ActionTime_Date'], axis=1)"
   ]
  },
  {
   "cell_type": "code",
   "execution_count": 17,
   "metadata": {},
   "outputs": [],
   "source": [
    "df_imp = df_imp.drop(['ID'], axis=1)"
   ]
  },
  {
   "cell_type": "code",
   "execution_count": 18,
   "metadata": {},
   "outputs": [
    {
     "data": {
      "text/html": [
       "<div>\n",
       "<style scoped>\n",
       "    .dataframe tbody tr th:only-of-type {\n",
       "        vertical-align: middle;\n",
       "    }\n",
       "\n",
       "    .dataframe tbody tr th {\n",
       "        vertical-align: top;\n",
       "    }\n",
       "\n",
       "    .dataframe thead th {\n",
       "        text-align: right;\n",
       "    }\n",
       "</style>\n",
       "<table border=\"1\" class=\"dataframe\">\n",
       "  <thead>\n",
       "    <tr style=\"text-align: right;\">\n",
       "      <th></th>\n",
       "      <th>Action</th>\n",
       "      <th>ActionTime</th>\n",
       "      <th>Website</th>\n",
       "      <th>BannerSize</th>\n",
       "      <th>Brand</th>\n",
       "      <th>Color</th>\n",
       "      <th>StayTime</th>\n",
       "      <th>Year</th>\n",
       "      <th>Month</th>\n",
       "      <th>Day</th>\n",
       "      <th>Weekday</th>\n",
       "      <th>Hour</th>\n",
       "    </tr>\n",
       "  </thead>\n",
       "  <tbody>\n",
       "    <tr>\n",
       "      <th>1</th>\n",
       "      <td>0</td>\n",
       "      <td>1501207373254968</td>\n",
       "      <td>Facebook</td>\n",
       "      <td>728x90</td>\n",
       "      <td>JoeFresh</td>\n",
       "      <td>Pink</td>\n",
       "      <td>1.730627</td>\n",
       "      <td>2017</td>\n",
       "      <td>7</td>\n",
       "      <td>28</td>\n",
       "      <td>Friday</td>\n",
       "      <td>2</td>\n",
       "    </tr>\n",
       "    <tr>\n",
       "      <th>2</th>\n",
       "      <td>0</td>\n",
       "      <td>1501209660836689</td>\n",
       "      <td>Facebook</td>\n",
       "      <td>160x600</td>\n",
       "      <td>JoeFresh</td>\n",
       "      <td>Blue</td>\n",
       "      <td>0.615033</td>\n",
       "      <td>2017</td>\n",
       "      <td>7</td>\n",
       "      <td>28</td>\n",
       "      <td>Friday</td>\n",
       "      <td>2</td>\n",
       "    </tr>\n",
       "    <tr>\n",
       "      <th>3</th>\n",
       "      <td>0</td>\n",
       "      <td>1501209717498078</td>\n",
       "      <td>Facebook</td>\n",
       "      <td>160x600</td>\n",
       "      <td>Disney</td>\n",
       "      <td>Gold</td>\n",
       "      <td>1.232917</td>\n",
       "      <td>2017</td>\n",
       "      <td>7</td>\n",
       "      <td>28</td>\n",
       "      <td>Friday</td>\n",
       "      <td>2</td>\n",
       "    </tr>\n",
       "    <tr>\n",
       "      <th>4</th>\n",
       "      <td>0</td>\n",
       "      <td>1502831370458655</td>\n",
       "      <td>Other</td>\n",
       "      <td>300x250</td>\n",
       "      <td>Zara</td>\n",
       "      <td>Pink</td>\n",
       "      <td>1.004084</td>\n",
       "      <td>2017</td>\n",
       "      <td>8</td>\n",
       "      <td>15</td>\n",
       "      <td>Tuesday</td>\n",
       "      <td>21</td>\n",
       "    </tr>\n",
       "    <tr>\n",
       "      <th>5</th>\n",
       "      <td>1</td>\n",
       "      <td>1502831506975457</td>\n",
       "      <td>Other</td>\n",
       "      <td>300x250</td>\n",
       "      <td>Carter's</td>\n",
       "      <td>White</td>\n",
       "      <td>0.204201</td>\n",
       "      <td>2017</td>\n",
       "      <td>8</td>\n",
       "      <td>15</td>\n",
       "      <td>Tuesday</td>\n",
       "      <td>21</td>\n",
       "    </tr>\n",
       "  </tbody>\n",
       "</table>\n",
       "</div>"
      ],
      "text/plain": [
       "   Action        ActionTime   Website BannerSize     Brand  Color  StayTime  \\\n",
       "1       0  1501207373254968  Facebook     728x90  JoeFresh   Pink  1.730627   \n",
       "2       0  1501209660836689  Facebook    160x600  JoeFresh   Blue  0.615033   \n",
       "3       0  1501209717498078  Facebook    160x600    Disney   Gold  1.232917   \n",
       "4       0  1502831370458655     Other    300x250      Zara   Pink  1.004084   \n",
       "5       1  1502831506975457     Other    300x250  Carter's  White  0.204201   \n",
       "\n",
       "   Year  Month  Day  Weekday  Hour  \n",
       "1  2017      7   28   Friday     2  \n",
       "2  2017      7   28   Friday     2  \n",
       "3  2017      7   28   Friday     2  \n",
       "4  2017      8   15  Tuesday    21  \n",
       "5  2017      8   15  Tuesday    21  "
      ]
     },
     "execution_count": 18,
     "metadata": {},
     "output_type": "execute_result"
    }
   ],
   "source": [
    "df_imp.head()"
   ]
  },
  {
   "cell_type": "code",
   "execution_count": 19,
   "metadata": {},
   "outputs": [
    {
     "data": {
      "text/html": [
       "<div>\n",
       "<style scoped>\n",
       "    .dataframe tbody tr th:only-of-type {\n",
       "        vertical-align: middle;\n",
       "    }\n",
       "\n",
       "    .dataframe tbody tr th {\n",
       "        vertical-align: top;\n",
       "    }\n",
       "\n",
       "    .dataframe thead th {\n",
       "        text-align: right;\n",
       "    }\n",
       "</style>\n",
       "<table border=\"1\" class=\"dataframe\">\n",
       "  <thead>\n",
       "    <tr style=\"text-align: right;\">\n",
       "      <th></th>\n",
       "      <th>Action</th>\n",
       "      <th>ActionTime</th>\n",
       "      <th>StayTime</th>\n",
       "      <th>Day</th>\n",
       "      <th>Hour</th>\n",
       "      <th>Website_AOL</th>\n",
       "      <th>Website_Amazon</th>\n",
       "      <th>Website_Atedra</th>\n",
       "      <th>Website_Craigslist.ca</th>\n",
       "      <th>Website_Expedia</th>\n",
       "      <th>...</th>\n",
       "      <th>Month_10</th>\n",
       "      <th>Month_11</th>\n",
       "      <th>Month_12</th>\n",
       "      <th>Weekday_Friday</th>\n",
       "      <th>Weekday_Monday</th>\n",
       "      <th>Weekday_Saturday</th>\n",
       "      <th>Weekday_Sunday</th>\n",
       "      <th>Weekday_Thursday</th>\n",
       "      <th>Weekday_Tuesday</th>\n",
       "      <th>Weekday_Wednesday</th>\n",
       "    </tr>\n",
       "  </thead>\n",
       "  <tbody>\n",
       "    <tr>\n",
       "      <th>1</th>\n",
       "      <td>0</td>\n",
       "      <td>1501207373254968</td>\n",
       "      <td>1.730627</td>\n",
       "      <td>28</td>\n",
       "      <td>2</td>\n",
       "      <td>0</td>\n",
       "      <td>0</td>\n",
       "      <td>0</td>\n",
       "      <td>0</td>\n",
       "      <td>0</td>\n",
       "      <td>...</td>\n",
       "      <td>0</td>\n",
       "      <td>0</td>\n",
       "      <td>0</td>\n",
       "      <td>1</td>\n",
       "      <td>0</td>\n",
       "      <td>0</td>\n",
       "      <td>0</td>\n",
       "      <td>0</td>\n",
       "      <td>0</td>\n",
       "      <td>0</td>\n",
       "    </tr>\n",
       "    <tr>\n",
       "      <th>2</th>\n",
       "      <td>0</td>\n",
       "      <td>1501209660836689</td>\n",
       "      <td>0.615033</td>\n",
       "      <td>28</td>\n",
       "      <td>2</td>\n",
       "      <td>0</td>\n",
       "      <td>0</td>\n",
       "      <td>0</td>\n",
       "      <td>0</td>\n",
       "      <td>0</td>\n",
       "      <td>...</td>\n",
       "      <td>0</td>\n",
       "      <td>0</td>\n",
       "      <td>0</td>\n",
       "      <td>1</td>\n",
       "      <td>0</td>\n",
       "      <td>0</td>\n",
       "      <td>0</td>\n",
       "      <td>0</td>\n",
       "      <td>0</td>\n",
       "      <td>0</td>\n",
       "    </tr>\n",
       "    <tr>\n",
       "      <th>3</th>\n",
       "      <td>0</td>\n",
       "      <td>1501209717498078</td>\n",
       "      <td>1.232917</td>\n",
       "      <td>28</td>\n",
       "      <td>2</td>\n",
       "      <td>0</td>\n",
       "      <td>0</td>\n",
       "      <td>0</td>\n",
       "      <td>0</td>\n",
       "      <td>0</td>\n",
       "      <td>...</td>\n",
       "      <td>0</td>\n",
       "      <td>0</td>\n",
       "      <td>0</td>\n",
       "      <td>1</td>\n",
       "      <td>0</td>\n",
       "      <td>0</td>\n",
       "      <td>0</td>\n",
       "      <td>0</td>\n",
       "      <td>0</td>\n",
       "      <td>0</td>\n",
       "    </tr>\n",
       "    <tr>\n",
       "      <th>4</th>\n",
       "      <td>0</td>\n",
       "      <td>1502831370458655</td>\n",
       "      <td>1.004084</td>\n",
       "      <td>15</td>\n",
       "      <td>21</td>\n",
       "      <td>0</td>\n",
       "      <td>0</td>\n",
       "      <td>0</td>\n",
       "      <td>0</td>\n",
       "      <td>0</td>\n",
       "      <td>...</td>\n",
       "      <td>0</td>\n",
       "      <td>0</td>\n",
       "      <td>0</td>\n",
       "      <td>0</td>\n",
       "      <td>0</td>\n",
       "      <td>0</td>\n",
       "      <td>0</td>\n",
       "      <td>0</td>\n",
       "      <td>1</td>\n",
       "      <td>0</td>\n",
       "    </tr>\n",
       "    <tr>\n",
       "      <th>5</th>\n",
       "      <td>1</td>\n",
       "      <td>1502831506975457</td>\n",
       "      <td>0.204201</td>\n",
       "      <td>15</td>\n",
       "      <td>21</td>\n",
       "      <td>0</td>\n",
       "      <td>0</td>\n",
       "      <td>0</td>\n",
       "      <td>0</td>\n",
       "      <td>0</td>\n",
       "      <td>...</td>\n",
       "      <td>0</td>\n",
       "      <td>0</td>\n",
       "      <td>0</td>\n",
       "      <td>0</td>\n",
       "      <td>0</td>\n",
       "      <td>0</td>\n",
       "      <td>0</td>\n",
       "      <td>0</td>\n",
       "      <td>1</td>\n",
       "      <td>0</td>\n",
       "    </tr>\n",
       "    <tr>\n",
       "      <th>6</th>\n",
       "      <td>0</td>\n",
       "      <td>1503351921109728</td>\n",
       "      <td>0.208788</td>\n",
       "      <td>21</td>\n",
       "      <td>21</td>\n",
       "      <td>0</td>\n",
       "      <td>0</td>\n",
       "      <td>0</td>\n",
       "      <td>0</td>\n",
       "      <td>0</td>\n",
       "      <td>...</td>\n",
       "      <td>0</td>\n",
       "      <td>0</td>\n",
       "      <td>0</td>\n",
       "      <td>0</td>\n",
       "      <td>1</td>\n",
       "      <td>0</td>\n",
       "      <td>0</td>\n",
       "      <td>0</td>\n",
       "      <td>0</td>\n",
       "      <td>0</td>\n",
       "    </tr>\n",
       "    <tr>\n",
       "      <th>7</th>\n",
       "      <td>0</td>\n",
       "      <td>1505434684991942</td>\n",
       "      <td>2.283643</td>\n",
       "      <td>15</td>\n",
       "      <td>0</td>\n",
       "      <td>0</td>\n",
       "      <td>0</td>\n",
       "      <td>0</td>\n",
       "      <td>0</td>\n",
       "      <td>0</td>\n",
       "      <td>...</td>\n",
       "      <td>0</td>\n",
       "      <td>0</td>\n",
       "      <td>0</td>\n",
       "      <td>1</td>\n",
       "      <td>0</td>\n",
       "      <td>0</td>\n",
       "      <td>0</td>\n",
       "      <td>0</td>\n",
       "      <td>0</td>\n",
       "      <td>0</td>\n",
       "    </tr>\n",
       "    <tr>\n",
       "      <th>8</th>\n",
       "      <td>1</td>\n",
       "      <td>1505445690268414</td>\n",
       "      <td>0.010048</td>\n",
       "      <td>15</td>\n",
       "      <td>3</td>\n",
       "      <td>0</td>\n",
       "      <td>0</td>\n",
       "      <td>0</td>\n",
       "      <td>0</td>\n",
       "      <td>0</td>\n",
       "      <td>...</td>\n",
       "      <td>0</td>\n",
       "      <td>0</td>\n",
       "      <td>0</td>\n",
       "      <td>1</td>\n",
       "      <td>0</td>\n",
       "      <td>0</td>\n",
       "      <td>0</td>\n",
       "      <td>0</td>\n",
       "      <td>0</td>\n",
       "      <td>0</td>\n",
       "    </tr>\n",
       "    <tr>\n",
       "      <th>9</th>\n",
       "      <td>0</td>\n",
       "      <td>1505623612427643</td>\n",
       "      <td>0.068071</td>\n",
       "      <td>17</td>\n",
       "      <td>4</td>\n",
       "      <td>0</td>\n",
       "      <td>0</td>\n",
       "      <td>0</td>\n",
       "      <td>0</td>\n",
       "      <td>0</td>\n",
       "      <td>...</td>\n",
       "      <td>0</td>\n",
       "      <td>0</td>\n",
       "      <td>0</td>\n",
       "      <td>0</td>\n",
       "      <td>0</td>\n",
       "      <td>0</td>\n",
       "      <td>1</td>\n",
       "      <td>0</td>\n",
       "      <td>0</td>\n",
       "      <td>0</td>\n",
       "    </tr>\n",
       "    <tr>\n",
       "      <th>10</th>\n",
       "      <td>0</td>\n",
       "      <td>1505637875085757</td>\n",
       "      <td>0.114499</td>\n",
       "      <td>17</td>\n",
       "      <td>8</td>\n",
       "      <td>0</td>\n",
       "      <td>0</td>\n",
       "      <td>0</td>\n",
       "      <td>0</td>\n",
       "      <td>0</td>\n",
       "      <td>...</td>\n",
       "      <td>0</td>\n",
       "      <td>0</td>\n",
       "      <td>0</td>\n",
       "      <td>0</td>\n",
       "      <td>0</td>\n",
       "      <td>0</td>\n",
       "      <td>1</td>\n",
       "      <td>0</td>\n",
       "      <td>0</td>\n",
       "      <td>0</td>\n",
       "    </tr>\n",
       "  </tbody>\n",
       "</table>\n",
       "<p>10 rows × 69 columns</p>\n",
       "</div>"
      ],
      "text/plain": [
       "    Action        ActionTime  StayTime  Day  Hour  Website_AOL  \\\n",
       "1        0  1501207373254968  1.730627   28     2            0   \n",
       "2        0  1501209660836689  0.615033   28     2            0   \n",
       "3        0  1501209717498078  1.232917   28     2            0   \n",
       "4        0  1502831370458655  1.004084   15    21            0   \n",
       "5        1  1502831506975457  0.204201   15    21            0   \n",
       "6        0  1503351921109728  0.208788   21    21            0   \n",
       "7        0  1505434684991942  2.283643   15     0            0   \n",
       "8        1  1505445690268414  0.010048   15     3            0   \n",
       "9        0  1505623612427643  0.068071   17     4            0   \n",
       "10       0  1505637875085757  0.114499   17     8            0   \n",
       "\n",
       "    Website_Amazon  Website_Atedra  Website_Craigslist.ca  Website_Expedia  \\\n",
       "1                0               0                      0                0   \n",
       "2                0               0                      0                0   \n",
       "3                0               0                      0                0   \n",
       "4                0               0                      0                0   \n",
       "5                0               0                      0                0   \n",
       "6                0               0                      0                0   \n",
       "7                0               0                      0                0   \n",
       "8                0               0                      0                0   \n",
       "9                0               0                      0                0   \n",
       "10               0               0                      0                0   \n",
       "\n",
       "          ...          Month_10  Month_11  Month_12  Weekday_Friday  \\\n",
       "1         ...                 0         0         0               1   \n",
       "2         ...                 0         0         0               1   \n",
       "3         ...                 0         0         0               1   \n",
       "4         ...                 0         0         0               0   \n",
       "5         ...                 0         0         0               0   \n",
       "6         ...                 0         0         0               0   \n",
       "7         ...                 0         0         0               1   \n",
       "8         ...                 0         0         0               1   \n",
       "9         ...                 0         0         0               0   \n",
       "10        ...                 0         0         0               0   \n",
       "\n",
       "    Weekday_Monday  Weekday_Saturday  Weekday_Sunday  Weekday_Thursday  \\\n",
       "1                0                 0               0                 0   \n",
       "2                0                 0               0                 0   \n",
       "3                0                 0               0                 0   \n",
       "4                0                 0               0                 0   \n",
       "5                0                 0               0                 0   \n",
       "6                1                 0               0                 0   \n",
       "7                0                 0               0                 0   \n",
       "8                0                 0               0                 0   \n",
       "9                0                 0               1                 0   \n",
       "10               0                 0               1                 0   \n",
       "\n",
       "    Weekday_Tuesday  Weekday_Wednesday  \n",
       "1                 0                  0  \n",
       "2                 0                  0  \n",
       "3                 0                  0  \n",
       "4                 1                  0  \n",
       "5                 1                  0  \n",
       "6                 0                  0  \n",
       "7                 0                  0  \n",
       "8                 0                  0  \n",
       "9                 0                  0  \n",
       "10                0                  0  \n",
       "\n",
       "[10 rows x 69 columns]"
      ]
     },
     "execution_count": 19,
     "metadata": {},
     "output_type": "execute_result"
    }
   ],
   "source": [
    "df_imp['Year'] = df_imp['Year'].astype('category')\n",
    "df_imp['Month'] = df_imp['Month'].astype('category')\n",
    "df_clean = pd.get_dummies(df_imp, prefix=['Website', 'BannerSize', 'Brand', 'Color', 'Year', 'Month', 'Weekday'])\n",
    "df_clean.columns\n",
    "df_clean[:10]"
   ]
  },
  {
   "cell_type": "markdown",
   "metadata": {},
   "source": [
    "## Partition Data into Training and Validation Sets"
   ]
  },
  {
   "cell_type": "code",
   "execution_count": 20,
   "metadata": {},
   "outputs": [
    {
     "name": "stderr",
     "output_type": "stream",
     "text": [
      "/Library/Frameworks/Python.framework/Versions/3.6/lib/python3.6/site-packages/sklearn/cross_validation.py:41: DeprecationWarning: This module was deprecated in version 0.18 in favor of the model_selection module into which all the refactored classes and functions are moved. Also note that the interface of the new CV iterators are different from that of this module. This module will be removed in 0.20.\n",
      "  \"This module will be removed in 0.20.\", DeprecationWarning)\n"
     ]
    }
   ],
   "source": [
    "# Our target variable is Action, and the rest are our feature set\n",
    "target = df_clean.values[:,0]\n",
    "feature = df_clean.values[:,1::]\n",
    "\n",
    "# Create a 70/30 simple random sample split\n",
    "from sklearn.cross_validation import train_test_split\n",
    "target_train, target_val, feature_train, feature_val = train_test_split( target, feature, test_size = 0.3, random_state = 100)"
   ]
  },
  {
   "cell_type": "code",
   "execution_count": 21,
   "metadata": {},
   "outputs": [
    {
     "data": {
      "text/plain": [
       "0.09923333333333334"
      ]
     },
     "execution_count": 21,
     "metadata": {},
     "output_type": "execute_result"
    }
   ],
   "source": [
    "target_val.mean()"
   ]
  },
  {
   "cell_type": "markdown",
   "metadata": {},
   "source": [
    "## Build Models"
   ]
  },
  {
   "cell_type": "markdown",
   "metadata": {},
   "source": [
    "### Logistic Regression"
   ]
  },
  {
   "cell_type": "code",
   "execution_count": 22,
   "metadata": {},
   "outputs": [],
   "source": [
    "from sklearn.linear_model import LogisticRegression\n",
    "lg = LogisticRegression()\n",
    "lg = lg.fit(feature_train, target_train)\n"
   ]
  },
  {
   "cell_type": "markdown",
   "metadata": {},
   "source": [
    "#### Likelihood of Click"
   ]
  },
  {
   "cell_type": "code",
   "execution_count": 23,
   "metadata": {},
   "outputs": [
    {
     "data": {
      "text/plain": [
       "array([0.10071158, 0.10062837, 0.10066636, ..., 0.10063234, 0.10077453,\n",
       "       0.10039046])"
      ]
     },
     "execution_count": 23,
     "metadata": {},
     "output_type": "execute_result"
    }
   ],
   "source": [
    "y_pred_prob = lg.predict_proba(feature_val)[:, 1]\n",
    "y_pred_prob"
   ]
  },
  {
   "cell_type": "markdown",
   "metadata": {},
   "source": [
    "### Decision Tree"
   ]
  },
  {
   "cell_type": "code",
   "execution_count": 24,
   "metadata": {},
   "outputs": [],
   "source": [
    "from sklearn import tree\n",
    "# leaving everything as default, like the CAS version\n",
    "ds = tree.DecisionTreeClassifier(criterion='entropy')\n",
    "ds = ds.fit(feature_train,target_train)"
   ]
  },
  {
   "cell_type": "markdown",
   "metadata": {},
   "source": [
    "### Gradient Boosting Tree"
   ]
  },
  {
   "cell_type": "code",
   "execution_count": 25,
   "metadata": {},
   "outputs": [],
   "source": [
    "from sklearn.ensemble import GradientBoostingClassifier\n",
    "gb = GradientBoostingClassifier()\n",
    "gb = gb.fit(feature_train,target_train)"
   ]
  },
  {
   "cell_type": "markdown",
   "metadata": {},
   "source": [
    "### Neural Network"
   ]
  },
  {
   "cell_type": "code",
   "execution_count": 26,
   "metadata": {},
   "outputs": [],
   "source": [
    "from sklearn.neural_network import MLPClassifier\n",
    "nn = MLPClassifier()\n",
    "nn = nn.fit(feature_train,target_train)"
   ]
  },
  {
   "cell_type": "markdown",
   "metadata": {},
   "source": [
    "### SVM\n",
    "(takes too long to run)"
   ]
  },
  {
   "cell_type": "code",
   "execution_count": 27,
   "metadata": {},
   "outputs": [],
   "source": [
    "# from sklearn import svm\n",
    "# svm_clf = svm.SVC()\n",
    "# svm_clf = svm_clf.fit(feature_train,target_train)"
   ]
  },
  {
   "cell_type": "markdown",
   "metadata": {},
   "source": [
    "## Assess Performance"
   ]
  },
  {
   "cell_type": "code",
   "execution_count": 28,
   "metadata": {},
   "outputs": [],
   "source": [
    "from sklearn import metrics\n",
    "def measure_performance(X,y,clf, show_accuracy=True, show_misclassification=False,show_classification_report=False, show_confusion_matrix=True):\n",
    "    y_pred=clf.predict(X)   \n",
    "    if show_accuracy:\n",
    "        print (\"Accuracy:{0:.3f}\".format(metrics.accuracy_score(y,y_pred)))\n",
    "\n",
    "    if show_misclassification:\n",
    "        print (\"Misclassification:{0:.3f}\".format(1 - metrics.accuracy_score(y,y_pred)))\n",
    "        \n",
    "    if show_classification_report:\n",
    "        print (\"Classification report\")\n",
    "        print (metrics.classification_report(y,y_pred))\n",
    "        \n",
    "    if show_confusion_matrix:\n",
    "        print (\"Confusion matrix\")\n",
    "        print (metrics.confusion_matrix(y,y_pred))"
   ]
  },
  {
   "cell_type": "code",
   "execution_count": 29,
   "metadata": {},
   "outputs": [
    {
     "name": "stdout",
     "output_type": "stream",
     "text": [
      "Logistic Regression: \n",
      "Misclassification:0.099\n",
      "Confusion matrix\n",
      "[[27023     0]\n",
      " [ 2977     0]]\n",
      "________________________________________\n",
      "Decision Tree: \n",
      "Misclassification:0.192\n",
      "Confusion matrix\n",
      "[[23880  3143]\n",
      " [ 2614   363]]\n",
      "________________________________________\n",
      "Gradient Boost: \n",
      "Misclassification:0.099\n",
      "Confusion matrix\n",
      "[[27022     1]\n",
      " [ 2977     0]]\n",
      "________________________________________\n",
      "Neural Network: \n",
      "Misclassification:0.099\n",
      "Confusion matrix\n",
      "[[27023     0]\n",
      " [ 2977     0]]\n"
     ]
    }
   ],
   "source": [
    "print(\"Logistic Regression: \")\n",
    "measure_performance(feature_val,target_val,lg,show_accuracy=False, show_misclassification=True)\n",
    "print('_'*40)\n",
    "print(\"Decision Tree: \")\n",
    "measure_performance(feature_val,target_val,ds,show_accuracy=False, show_misclassification=True)\n",
    "print('_'*40)\n",
    "print(\"Gradient Boost: \")\n",
    "measure_performance(feature_val,target_val,gb,show_accuracy=False, show_misclassification=True)\n",
    "print('_'*40)\n",
    "print(\"Neural Network: \") \n",
    "measure_performance(feature_val,target_val,nn,show_accuracy=False, show_misclassification=True)"
   ]
  },
  {
   "cell_type": "code",
   "execution_count": 30,
   "metadata": {},
   "outputs": [
    {
     "data": {
      "image/png": "[encoded data removed]",
      "text/plain": [
       "<Figure size 432x288 with 1 Axes>"
      ]
     },
     "metadata": {},
     "output_type": "display_data"
    }
   ],
   "source": [
    "fpr, tpr, thresholds = metrics.roc_curve(target_val, y_pred_prob)\n",
    "plt.plot(fpr, tpr)\n",
    "plt.xlim([0.0, 1.0])\n",
    "plt.ylim([0.0, 1.0])\n",
    "plt.title('ROC Curve for logistic regression')\n",
    "plt.xlabel('False positive rate (1 - specificity)')\n",
    "plt.ylabel('True positive rate (sensitivity)')\n",
    "plt.grid(True)"
   ]
  },
  {
   "cell_type": "markdown",
   "metadata": {},
   "source": [
    "From the measurements above, it is clear Dicision Tree did the worst. And for other models, they actually did nothing but predicted all response 0. I use Recursive Feature Elimination in the following step to decrease the number of features and try logistic regression again. "
   ]
  },
  {
   "cell_type": "code",
   "execution_count": 31,
   "metadata": {},
   "outputs": [
    {
     "name": "stdout",
     "output_type": "stream",
     "text": [
      "[ True  True  True  True False False False False False  True False False\n",
      " False False False False False False False False False False False False\n",
      "  True False False False False False False False False False False False\n",
      " False  True False False False False False False False False False  True\n",
      " False False False False  True False False False  True False False False\n",
      " False False False False False False False False]\n",
      "[ 1  1  1  1 57 41 44 36 45  1 43 17 46 42 53 51 47 38 50 10 39 54 24 48\n",
      "  1 49 33 56 52 40  2 58 55  6 59 20 23  1 25 35  4 12 37 30 26 16  9  1\n",
      " 21 29  7 34  1 32 31 22  1  5  3 27 28 14 13 18 19 15  8 11]\n"
     ]
    }
   ],
   "source": [
    "from sklearn.feature_selection import RFE\n",
    "logreg = LogisticRegression()\n",
    "rfe = RFE(logreg, 10)\n",
    "rfe = rfe.fit(feature, target)\n",
    "print(rfe.support_)\n",
    "print(rfe.ranking_)"
   ]
  },
  {
   "cell_type": "code",
   "execution_count": 32,
   "metadata": {},
   "outputs": [],
   "source": [
    "cols = df_clean.drop(['Action'], axis=1).columns.values[rfe.support_]\n",
    "feature=df_clean[cols]\n",
    "target=df_clean['Action']"
   ]
  },
  {
   "cell_type": "code",
   "execution_count": 33,
   "metadata": {},
   "outputs": [
    {
     "name": "stdout",
     "output_type": "stream",
     "text": [
      "likelihood: [0.10071158 0.10062837 0.10066636 ... 0.10063234 0.10077453 0.10039046]\n",
      "________________________________________\n",
      "Logistic Regression: \n",
      "Misclassification:0.099\n",
      "Confusion matrix\n",
      "[[27023     0]\n",
      " [ 2977     0]]\n"
     ]
    }
   ],
   "source": [
    "target_train, target_val, feature_train, feature_val = train_test_split( target, feature, test_size = 0.3, random_state = 100)\n",
    "lg = LogisticRegression()\n",
    "lg = lg.fit(feature_train, target_train)\n",
    "y_pred_prob = lg.predict_proba(feature_val)[:, 1]\n",
    "print(\"likelihood:\", y_pred_prob)\n",
    "print('_'*40)\n",
    "print(\"Logistic Regression: \")\n",
    "measure_performance(feature_val,target_val,lg,show_accuracy=False, show_misclassification=True)"
   ]
  },
  {
   "cell_type": "markdown",
   "metadata": {},
   "source": [
    "Still same result. In the following I find the optimal cutoff value."
   ]
  },
  {
   "cell_type": "code",
   "execution_count": 34,
   "metadata": {},
   "outputs": [],
   "source": [
    "import numpy as np\n",
    "def Find_Optimal_Cutoff(target, predicted):\n",
    "    \"\"\" Find the optimal probability cutoff point for a classification model related to event rate\n",
    "    Parameters\n",
    "    ----------\n",
    "    target : Matrix with dependent or target data, where rows are observations\n",
    "\n",
    "    predicted : Matrix with predicted data, where rows are observations\n",
    "\n",
    "    Returns\n",
    "    -------     \n",
    "    list type, with optimal cutoff value\n",
    "\n",
    "    \"\"\"\n",
    "    fpr, tpr, threshold = metrics.roc_curve(target, predicted)\n",
    "    i = np.arange(len(tpr)) \n",
    "    roc = pd.DataFrame({'tf' : pd.Series(tpr-(1-fpr), index=i), 'threshold' : pd.Series(threshold, index=i)})\n",
    "    roc_t = roc.ix[(roc.tf-0).abs().argsort()[:1]]\n",
    "\n",
    "    return list(roc_t['threshold']) "
   ]
  },
  {
   "cell_type": "code",
   "execution_count": 35,
   "metadata": {},
   "outputs": [
    {
     "name": "stderr",
     "output_type": "stream",
     "text": [
      "/Library/Frameworks/Python.framework/Versions/3.6/lib/python3.6/site-packages/ipykernel_launcher.py:18: DeprecationWarning: \n",
      ".ix is deprecated. Please use\n",
      ".loc for label based indexing or\n",
      ".iloc for positional indexing\n",
      "\n",
      "See the documentation here:\n",
      "http://pandas.pydata.org/pandas-docs/stable/indexing.html#ix-indexer-is-deprecated\n"
     ]
    },
    {
     "data": {
      "text/plain": [
       "[0.10032659058063331]"
      ]
     },
     "execution_count": 35,
     "metadata": {},
     "output_type": "execute_result"
    }
   ],
   "source": [
    "threashold = Find_Optimal_Cutoff(target_val, y_pred_prob)\n",
    "threashold"
   ]
  },
  {
   "cell_type": "code",
   "execution_count": 36,
   "metadata": {},
   "outputs": [
    {
     "name": "stdout",
     "output_type": "stream",
     "text": [
      "[0.10071158 0.10062837 0.10066636 0.10014662 0.10063532 0.10013052\n",
      " 0.09981356 0.09973496 0.10058788 0.09989212]\n",
      "[1. 1. 1. 0. 1. 0. 0. 0. 1. 0.]\n"
     ]
    }
   ],
   "source": [
    "from sklearn.preprocessing import binarize\n",
    "y_pred_class = binarize([y_pred_prob], threashold[0])[0]\n",
    "print(y_pred_prob[0:10])\n",
    "print(y_pred_class[0:10])"
   ]
  },
  {
   "cell_type": "code",
   "execution_count": 37,
   "metadata": {},
   "outputs": [
    {
     "name": "stdout",
     "output_type": "stream",
     "text": [
      "0.4986\n",
      "[[13475 13548]\n",
      " [ 1494  1483]]\n"
     ]
    }
   ],
   "source": [
    "print(metrics.accuracy_score(target_val, y_pred_class))\n",
    "print(metrics.confusion_matrix(target_val, y_pred_class))"
   ]
  },
  {
   "cell_type": "markdown",
   "metadata": {},
   "source": [
    "This model has better true positive rate, but much lower accuracy."
   ]
  },
  {
   "cell_type": "markdown",
   "metadata": {},
   "source": [
    "## Conclusion"
   ]
  },
  {
   "cell_type": "markdown",
   "metadata": {},
   "source": [
    "If it is not the fact that the dataset has been manually designed and modified for confidentiality reason, then I think the feature engineering part shold be reconsidered. For example, the websites can be group into several categories like social media, e-commerce, etc; Brand can also be segmented into clusters. "
   ]
  }
 ],
 "metadata": {
  "kernelspec": {
   "display_name": "Python 3",
   "language": "python",
   "name": "python3"
  },
  "language_info": {
   "codemirror_mode": {
    "name": "ipython",
    "version": 3
   },
   "file_extension": ".py",
   "mimetype": "text/x-python",
   "name": "python",
   "nbconvert_exporter": "python",
   "pygments_lexer": "ipython3",
   "version": "3.6.4"
  }
 },
 "nbformat": 4,
 "nbformat_minor": 2
}
